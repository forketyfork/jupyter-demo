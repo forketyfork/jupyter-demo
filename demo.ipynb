{
 "cells": [
  {
   "cell_type": "code",
   "execution_count": null,
   "metadata": {},
   "outputs": [],
   "source": [
    "# Jupyter Notebook Demo\n",
    "\n",
    "This notebook showcases basic functionality:\n",
    "- Markdown for rich text and formatting\n",
    "- Python code execution\n",
    "- Inline visualizations\n",
    "- Interactivity with widgets"
   ]
  },
  {
   "cell_type": "code",
   "execution_count": null,
   "metadata": {},
   "outputs": [],
   "source": [
    "# Example of basic Python code execution\n",
    "a = 10\n",
    "b = 20\n",
    "result = a + b\n",
    "result"
   ]
  },
  {
   "cell_type": "code",
   "execution_count": null,
   "metadata": {},
   "outputs": [],
   "source": [
    "import matplotlib.pyplot as plt\n",
    "import numpy as np\n",
    "\n",
    "# Generate some random data\n",
    "x = np.linspace(0, 10, 100)\n",
    "y = np.sin(x)\n",
    "\n",
    "# Create a simple line plot\n",
    "plt.plot(x, y)\n",
    "plt.title(\"Sine Wave\")\n",
    "plt.xlabel(\"x\")\n",
    "plt.ylabel(\"sin(x)\")\n",
    "plt.show()"
   ]
  },
  {
   "cell_type": "code",
   "execution_count": null,
   "metadata": {},
   "outputs": [],
   "source": [
    "from ipywidgets import interact\n",
    "\n",
    "# Define a function to display a number\n",
    "def show_number(num):\n",
    "    print(f\"You chose: {num}\")\n",
    "\n",
    "# Use a slider to choose a number\n",
    "interact(show_number, num=(0, 100, 1));"
   ]
  },
  {
   "cell_type": "code",
   "execution_count": null,
   "metadata": {},
   "outputs": [],
   "source": [
    "## What We Demonstrated\n",
    "\n",
    "1. **Markdown cells**: Formatting and documentation.  \n",
    "2. **Code execution**: Run Python code and display results.  \n",
    "3. **Plotting**: Visualizing data inline with Matplotlib.  \n",
    "4. **Widgets**: Adding interactivity.\n",
    "\n",
    "Jupyter Notebooks offer a flexible environment for combining code, text, and visualizations in one place."
   ]
  }
 ],
 "metadata": {
  "language_info": {
   "name": "python"
  }
 },
 "nbformat": 4,
 "nbformat_minor": 2
}
